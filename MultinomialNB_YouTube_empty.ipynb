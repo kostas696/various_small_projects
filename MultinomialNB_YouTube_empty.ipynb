{
  "cells": [
    {
      "cell_type": "markdown",
      "id": "8ebd4364",
      "metadata": {
        "id": "8ebd4364"
      },
      "source": [
        "# Project: Multinomial Naïve Bayes Classifier - the YouTube Dataset"
      ]
    },
    {
      "cell_type": "markdown",
      "id": "053831be",
      "metadata": {
        "id": "053831be"
      },
      "source": [
        "### Introducing the database"
      ]
    },
    {
      "cell_type": "markdown",
      "id": "329b3cb7",
      "metadata": {
        "id": "329b3cb7"
      },
      "source": [
        "The database is taken from http://archive.ics.uci.edu/dataset/380/youtube+spam+collection"
      ]
    },
    {
      "cell_type": "markdown",
      "id": "e299f9e4",
      "metadata": {
        "id": "e299f9e4"
      },
      "source": [
        "### Importing the necessary libraries"
      ]
    },
    {
      "cell_type": "code",
      "execution_count": 31,
      "id": "7ca2a0dc",
      "metadata": {
        "id": "7ca2a0dc"
      },
      "outputs": [],
      "source": [
        "import matplotlib.pyplot as plt\n",
        "import seaborn as sns\n",
        "import glob\n",
        "\n",
        "import numpy as np\n",
        "import pandas as pd\n",
        "\n",
        "from sklearn.feature_extraction.text import CountVectorizer\n",
        "from sklearn.model_selection import train_test_split\n",
        "from sklearn.naive_bayes import MultinomialNB, ComplementNB\n",
        "from sklearn.metrics import classification_report, ConfusionMatrixDisplay"
      ]
    },
    {
      "cell_type": "markdown",
      "id": "ec59c4c3",
      "metadata": {
        "id": "ec59c4c3"
      },
      "source": [
        "### Reading the database"
      ]
    },
    {
      "cell_type": "code",
      "execution_count": 9,
      "id": "f498b02f",
      "metadata": {
        "colab": {
          "base_uri": "https://localhost:8080/"
        },
        "id": "f498b02f",
        "outputId": "fcaaa7f1-60ae-4679-f431-ea3ce4d78579"
      },
      "outputs": [
        {
          "output_type": "execute_result",
          "data": {
            "text/plain": [
              "['Youtube01.csv',\n",
              " 'Youtube02.csv',\n",
              " 'Youtube05.csv',\n",
              " 'Youtube04.csv',\n",
              " 'Youtube03.csv']"
            ]
          },
          "metadata": {},
          "execution_count": 9
        }
      ],
      "source": [
        "# List CSV files in the Colab environment\n",
        "files = glob.glob('Youtube*.csv')\n",
        "files"
      ]
    },
    {
      "cell_type": "code",
      "execution_count": 15,
      "id": "ff0d4f00",
      "metadata": {
        "id": "ff0d4f00"
      },
      "outputs": [],
      "source": [
        "all_df = [] # Create an empty list to store the DataFrames\n",
        "\n",
        "# Read the CSV file, drop specified columns, and append the resulting DataFrame to 'all_df'\n",
        "for i in files:\n",
        "  all_df.append(pd.read_csv(i).drop(['COMMENT_ID', 'AUTHOR', 'DATE'], axis=1))"
      ]
    },
    {
      "cell_type": "code",
      "execution_count": 16,
      "id": "cf721dc9",
      "metadata": {
        "colab": {
          "base_uri": "https://localhost:8080/",
          "height": 424
        },
        "id": "cf721dc9",
        "outputId": "1d612a1c-3a6b-470d-fb12-62a8e58b5ffd"
      },
      "outputs": [
        {
          "output_type": "execute_result",
          "data": {
            "text/plain": [
              "                                               CONTENT  CLASS\n",
              "0    Huh, anyway check out this you[tube] channel: ...      1\n",
              "1    Hey guys check out my new channel and our firs...      1\n",
              "2               just for test I have to say murdev.com      1\n",
              "3              watch?v=vtaRGgvGtWQ   Check this out .﻿      1\n",
              "4    Hey, check out my new website!! This site is a...      1\n",
              "..                                                 ...    ...\n",
              "344  How can this have 2 billion views when there's...      0\n",
              "345         I don't now why I'm watching this in 2014﻿      0\n",
              "346  subscribe to me for call of duty vids and give...      1\n",
              "347  hi guys please my android photo editor downloa...      1\n",
              "348  The first billion viewed this because they tho...      0\n",
              "\n",
              "[349 rows x 2 columns]"
            ],
            "text/html": [
              "\n",
              "  <div id=\"df-a5e47aec-b307-42d6-8a62-72f884cb4d74\" class=\"colab-df-container\">\n",
              "    <div>\n",
              "<style scoped>\n",
              "    .dataframe tbody tr th:only-of-type {\n",
              "        vertical-align: middle;\n",
              "    }\n",
              "\n",
              "    .dataframe tbody tr th {\n",
              "        vertical-align: top;\n",
              "    }\n",
              "\n",
              "    .dataframe thead th {\n",
              "        text-align: right;\n",
              "    }\n",
              "</style>\n",
              "<table border=\"1\" class=\"dataframe\">\n",
              "  <thead>\n",
              "    <tr style=\"text-align: right;\">\n",
              "      <th></th>\n",
              "      <th>CONTENT</th>\n",
              "      <th>CLASS</th>\n",
              "    </tr>\n",
              "  </thead>\n",
              "  <tbody>\n",
              "    <tr>\n",
              "      <th>0</th>\n",
              "      <td>Huh, anyway check out this you[tube] channel: ...</td>\n",
              "      <td>1</td>\n",
              "    </tr>\n",
              "    <tr>\n",
              "      <th>1</th>\n",
              "      <td>Hey guys check out my new channel and our firs...</td>\n",
              "      <td>1</td>\n",
              "    </tr>\n",
              "    <tr>\n",
              "      <th>2</th>\n",
              "      <td>just for test I have to say murdev.com</td>\n",
              "      <td>1</td>\n",
              "    </tr>\n",
              "    <tr>\n",
              "      <th>3</th>\n",
              "      <td>watch?v=vtaRGgvGtWQ   Check this out .﻿</td>\n",
              "      <td>1</td>\n",
              "    </tr>\n",
              "    <tr>\n",
              "      <th>4</th>\n",
              "      <td>Hey, check out my new website!! This site is a...</td>\n",
              "      <td>1</td>\n",
              "    </tr>\n",
              "    <tr>\n",
              "      <th>...</th>\n",
              "      <td>...</td>\n",
              "      <td>...</td>\n",
              "    </tr>\n",
              "    <tr>\n",
              "      <th>344</th>\n",
              "      <td>How can this have 2 billion views when there's...</td>\n",
              "      <td>0</td>\n",
              "    </tr>\n",
              "    <tr>\n",
              "      <th>345</th>\n",
              "      <td>I don't now why I'm watching this in 2014﻿</td>\n",
              "      <td>0</td>\n",
              "    </tr>\n",
              "    <tr>\n",
              "      <th>346</th>\n",
              "      <td>subscribe to me for call of duty vids and give...</td>\n",
              "      <td>1</td>\n",
              "    </tr>\n",
              "    <tr>\n",
              "      <th>347</th>\n",
              "      <td>hi guys please my android photo editor downloa...</td>\n",
              "      <td>1</td>\n",
              "    </tr>\n",
              "    <tr>\n",
              "      <th>348</th>\n",
              "      <td>The first billion viewed this because they tho...</td>\n",
              "      <td>0</td>\n",
              "    </tr>\n",
              "  </tbody>\n",
              "</table>\n",
              "<p>349 rows × 2 columns</p>\n",
              "</div>\n",
              "    <div class=\"colab-df-buttons\">\n",
              "\n",
              "  <div class=\"colab-df-container\">\n",
              "    <button class=\"colab-df-convert\" onclick=\"convertToInteractive('df-a5e47aec-b307-42d6-8a62-72f884cb4d74')\"\n",
              "            title=\"Convert this dataframe to an interactive table.\"\n",
              "            style=\"display:none;\">\n",
              "\n",
              "  <svg xmlns=\"http://www.w3.org/2000/svg\" height=\"24px\" viewBox=\"0 -960 960 960\">\n",
              "    <path d=\"M120-120v-720h720v720H120Zm60-500h600v-160H180v160Zm220 220h160v-160H400v160Zm0 220h160v-160H400v160ZM180-400h160v-160H180v160Zm440 0h160v-160H620v160ZM180-180h160v-160H180v160Zm440 0h160v-160H620v160Z\"/>\n",
              "  </svg>\n",
              "    </button>\n",
              "\n",
              "  <style>\n",
              "    .colab-df-container {\n",
              "      display:flex;\n",
              "      gap: 12px;\n",
              "    }\n",
              "\n",
              "    .colab-df-convert {\n",
              "      background-color: #E8F0FE;\n",
              "      border: none;\n",
              "      border-radius: 50%;\n",
              "      cursor: pointer;\n",
              "      display: none;\n",
              "      fill: #1967D2;\n",
              "      height: 32px;\n",
              "      padding: 0 0 0 0;\n",
              "      width: 32px;\n",
              "    }\n",
              "\n",
              "    .colab-df-convert:hover {\n",
              "      background-color: #E2EBFA;\n",
              "      box-shadow: 0px 1px 2px rgba(60, 64, 67, 0.3), 0px 1px 3px 1px rgba(60, 64, 67, 0.15);\n",
              "      fill: #174EA6;\n",
              "    }\n",
              "\n",
              "    .colab-df-buttons div {\n",
              "      margin-bottom: 4px;\n",
              "    }\n",
              "\n",
              "    [theme=dark] .colab-df-convert {\n",
              "      background-color: #3B4455;\n",
              "      fill: #D2E3FC;\n",
              "    }\n",
              "\n",
              "    [theme=dark] .colab-df-convert:hover {\n",
              "      background-color: #434B5C;\n",
              "      box-shadow: 0px 1px 3px 1px rgba(0, 0, 0, 0.15);\n",
              "      filter: drop-shadow(0px 1px 2px rgba(0, 0, 0, 0.3));\n",
              "      fill: #FFFFFF;\n",
              "    }\n",
              "  </style>\n",
              "\n",
              "    <script>\n",
              "      const buttonEl =\n",
              "        document.querySelector('#df-a5e47aec-b307-42d6-8a62-72f884cb4d74 button.colab-df-convert');\n",
              "      buttonEl.style.display =\n",
              "        google.colab.kernel.accessAllowed ? 'block' : 'none';\n",
              "\n",
              "      async function convertToInteractive(key) {\n",
              "        const element = document.querySelector('#df-a5e47aec-b307-42d6-8a62-72f884cb4d74');\n",
              "        const dataTable =\n",
              "          await google.colab.kernel.invokeFunction('convertToInteractive',\n",
              "                                                    [key], {});\n",
              "        if (!dataTable) return;\n",
              "\n",
              "        const docLinkHtml = 'Like what you see? Visit the ' +\n",
              "          '<a target=\"_blank\" href=https://colab.research.google.com/notebooks/data_table.ipynb>data table notebook</a>'\n",
              "          + ' to learn more about interactive tables.';\n",
              "        element.innerHTML = '';\n",
              "        dataTable['output_type'] = 'display_data';\n",
              "        await google.colab.output.renderOutput(dataTable, element);\n",
              "        const docLink = document.createElement('div');\n",
              "        docLink.innerHTML = docLinkHtml;\n",
              "        element.appendChild(docLink);\n",
              "      }\n",
              "    </script>\n",
              "  </div>\n",
              "\n",
              "\n",
              "<div id=\"df-960527c8-0ee4-4c82-8b36-70fcdf8b3275\">\n",
              "  <button class=\"colab-df-quickchart\" onclick=\"quickchart('df-960527c8-0ee4-4c82-8b36-70fcdf8b3275')\"\n",
              "            title=\"Suggest charts\"\n",
              "            style=\"display:none;\">\n",
              "\n",
              "<svg xmlns=\"http://www.w3.org/2000/svg\" height=\"24px\"viewBox=\"0 0 24 24\"\n",
              "     width=\"24px\">\n",
              "    <g>\n",
              "        <path d=\"M19 3H5c-1.1 0-2 .9-2 2v14c0 1.1.9 2 2 2h14c1.1 0 2-.9 2-2V5c0-1.1-.9-2-2-2zM9 17H7v-7h2v7zm4 0h-2V7h2v10zm4 0h-2v-4h2v4z\"/>\n",
              "    </g>\n",
              "</svg>\n",
              "  </button>\n",
              "\n",
              "<style>\n",
              "  .colab-df-quickchart {\n",
              "      --bg-color: #E8F0FE;\n",
              "      --fill-color: #1967D2;\n",
              "      --hover-bg-color: #E2EBFA;\n",
              "      --hover-fill-color: #174EA6;\n",
              "      --disabled-fill-color: #AAA;\n",
              "      --disabled-bg-color: #DDD;\n",
              "  }\n",
              "\n",
              "  [theme=dark] .colab-df-quickchart {\n",
              "      --bg-color: #3B4455;\n",
              "      --fill-color: #D2E3FC;\n",
              "      --hover-bg-color: #434B5C;\n",
              "      --hover-fill-color: #FFFFFF;\n",
              "      --disabled-bg-color: #3B4455;\n",
              "      --disabled-fill-color: #666;\n",
              "  }\n",
              "\n",
              "  .colab-df-quickchart {\n",
              "    background-color: var(--bg-color);\n",
              "    border: none;\n",
              "    border-radius: 50%;\n",
              "    cursor: pointer;\n",
              "    display: none;\n",
              "    fill: var(--fill-color);\n",
              "    height: 32px;\n",
              "    padding: 0;\n",
              "    width: 32px;\n",
              "  }\n",
              "\n",
              "  .colab-df-quickchart:hover {\n",
              "    background-color: var(--hover-bg-color);\n",
              "    box-shadow: 0 1px 2px rgba(60, 64, 67, 0.3), 0 1px 3px 1px rgba(60, 64, 67, 0.15);\n",
              "    fill: var(--button-hover-fill-color);\n",
              "  }\n",
              "\n",
              "  .colab-df-quickchart-complete:disabled,\n",
              "  .colab-df-quickchart-complete:disabled:hover {\n",
              "    background-color: var(--disabled-bg-color);\n",
              "    fill: var(--disabled-fill-color);\n",
              "    box-shadow: none;\n",
              "  }\n",
              "\n",
              "  .colab-df-spinner {\n",
              "    border: 2px solid var(--fill-color);\n",
              "    border-color: transparent;\n",
              "    border-bottom-color: var(--fill-color);\n",
              "    animation:\n",
              "      spin 1s steps(1) infinite;\n",
              "  }\n",
              "\n",
              "  @keyframes spin {\n",
              "    0% {\n",
              "      border-color: transparent;\n",
              "      border-bottom-color: var(--fill-color);\n",
              "      border-left-color: var(--fill-color);\n",
              "    }\n",
              "    20% {\n",
              "      border-color: transparent;\n",
              "      border-left-color: var(--fill-color);\n",
              "      border-top-color: var(--fill-color);\n",
              "    }\n",
              "    30% {\n",
              "      border-color: transparent;\n",
              "      border-left-color: var(--fill-color);\n",
              "      border-top-color: var(--fill-color);\n",
              "      border-right-color: var(--fill-color);\n",
              "    }\n",
              "    40% {\n",
              "      border-color: transparent;\n",
              "      border-right-color: var(--fill-color);\n",
              "      border-top-color: var(--fill-color);\n",
              "    }\n",
              "    60% {\n",
              "      border-color: transparent;\n",
              "      border-right-color: var(--fill-color);\n",
              "    }\n",
              "    80% {\n",
              "      border-color: transparent;\n",
              "      border-right-color: var(--fill-color);\n",
              "      border-bottom-color: var(--fill-color);\n",
              "    }\n",
              "    90% {\n",
              "      border-color: transparent;\n",
              "      border-bottom-color: var(--fill-color);\n",
              "    }\n",
              "  }\n",
              "</style>\n",
              "\n",
              "  <script>\n",
              "    async function quickchart(key) {\n",
              "      const quickchartButtonEl =\n",
              "        document.querySelector('#' + key + ' button');\n",
              "      quickchartButtonEl.disabled = true;  // To prevent multiple clicks.\n",
              "      quickchartButtonEl.classList.add('colab-df-spinner');\n",
              "      try {\n",
              "        const charts = await google.colab.kernel.invokeFunction(\n",
              "            'suggestCharts', [key], {});\n",
              "      } catch (error) {\n",
              "        console.error('Error during call to suggestCharts:', error);\n",
              "      }\n",
              "      quickchartButtonEl.classList.remove('colab-df-spinner');\n",
              "      quickchartButtonEl.classList.add('colab-df-quickchart-complete');\n",
              "    }\n",
              "    (() => {\n",
              "      let quickchartButtonEl =\n",
              "        document.querySelector('#df-960527c8-0ee4-4c82-8b36-70fcdf8b3275 button');\n",
              "      quickchartButtonEl.style.display =\n",
              "        google.colab.kernel.accessAllowed ? 'block' : 'none';\n",
              "    })();\n",
              "  </script>\n",
              "</div>\n",
              "    </div>\n",
              "  </div>\n"
            ]
          },
          "metadata": {},
          "execution_count": 16
        }
      ],
      "source": [
        "# Retrieve the first element from the all_df list\n",
        "all_df[0]"
      ]
    },
    {
      "cell_type": "code",
      "execution_count": 17,
      "id": "1f011d2e",
      "metadata": {
        "colab": {
          "base_uri": "https://localhost:8080/",
          "height": 424
        },
        "id": "1f011d2e",
        "outputId": "e991677f-a364-443a-c1bf-1b90ef1b0a01"
      },
      "outputs": [
        {
          "output_type": "execute_result",
          "data": {
            "text/plain": [
              "                                                CONTENT  CLASS\n",
              "0     Huh, anyway check out this you[tube] channel: ...      1\n",
              "1     Hey guys check out my new channel and our firs...      1\n",
              "2                just for test I have to say murdev.com      1\n",
              "3               watch?v=vtaRGgvGtWQ   Check this out .﻿      1\n",
              "4     Hey, check out my new website!! This site is a...      1\n",
              "...                                                 ...    ...\n",
              "1950                   Like this comment for no reason﻿      1\n",
              "1951                                    love this song﻿      0\n",
              "1952  this song is awesome. these guys are the best....      1\n",
              "1953   HOW MANY THUMBS UP FOR LOUIS SAVING THE DAY!?!?﻿      1\n",
              "1954                                           NICE :3﻿      0\n",
              "\n",
              "[1955 rows x 2 columns]"
            ],
            "text/html": [
              "\n",
              "  <div id=\"df-b0a36ecd-8a20-4a66-aaae-18d68f79509a\" class=\"colab-df-container\">\n",
              "    <div>\n",
              "<style scoped>\n",
              "    .dataframe tbody tr th:only-of-type {\n",
              "        vertical-align: middle;\n",
              "    }\n",
              "\n",
              "    .dataframe tbody tr th {\n",
              "        vertical-align: top;\n",
              "    }\n",
              "\n",
              "    .dataframe thead th {\n",
              "        text-align: right;\n",
              "    }\n",
              "</style>\n",
              "<table border=\"1\" class=\"dataframe\">\n",
              "  <thead>\n",
              "    <tr style=\"text-align: right;\">\n",
              "      <th></th>\n",
              "      <th>CONTENT</th>\n",
              "      <th>CLASS</th>\n",
              "    </tr>\n",
              "  </thead>\n",
              "  <tbody>\n",
              "    <tr>\n",
              "      <th>0</th>\n",
              "      <td>Huh, anyway check out this you[tube] channel: ...</td>\n",
              "      <td>1</td>\n",
              "    </tr>\n",
              "    <tr>\n",
              "      <th>1</th>\n",
              "      <td>Hey guys check out my new channel and our firs...</td>\n",
              "      <td>1</td>\n",
              "    </tr>\n",
              "    <tr>\n",
              "      <th>2</th>\n",
              "      <td>just for test I have to say murdev.com</td>\n",
              "      <td>1</td>\n",
              "    </tr>\n",
              "    <tr>\n",
              "      <th>3</th>\n",
              "      <td>watch?v=vtaRGgvGtWQ   Check this out .﻿</td>\n",
              "      <td>1</td>\n",
              "    </tr>\n",
              "    <tr>\n",
              "      <th>4</th>\n",
              "      <td>Hey, check out my new website!! This site is a...</td>\n",
              "      <td>1</td>\n",
              "    </tr>\n",
              "    <tr>\n",
              "      <th>...</th>\n",
              "      <td>...</td>\n",
              "      <td>...</td>\n",
              "    </tr>\n",
              "    <tr>\n",
              "      <th>1950</th>\n",
              "      <td>Like this comment for no reason﻿</td>\n",
              "      <td>1</td>\n",
              "    </tr>\n",
              "    <tr>\n",
              "      <th>1951</th>\n",
              "      <td>love this song﻿</td>\n",
              "      <td>0</td>\n",
              "    </tr>\n",
              "    <tr>\n",
              "      <th>1952</th>\n",
              "      <td>this song is awesome. these guys are the best....</td>\n",
              "      <td>1</td>\n",
              "    </tr>\n",
              "    <tr>\n",
              "      <th>1953</th>\n",
              "      <td>HOW MANY THUMBS UP FOR LOUIS SAVING THE DAY!?!?﻿</td>\n",
              "      <td>1</td>\n",
              "    </tr>\n",
              "    <tr>\n",
              "      <th>1954</th>\n",
              "      <td>NICE :3﻿</td>\n",
              "      <td>0</td>\n",
              "    </tr>\n",
              "  </tbody>\n",
              "</table>\n",
              "<p>1955 rows × 2 columns</p>\n",
              "</div>\n",
              "    <div class=\"colab-df-buttons\">\n",
              "\n",
              "  <div class=\"colab-df-container\">\n",
              "    <button class=\"colab-df-convert\" onclick=\"convertToInteractive('df-b0a36ecd-8a20-4a66-aaae-18d68f79509a')\"\n",
              "            title=\"Convert this dataframe to an interactive table.\"\n",
              "            style=\"display:none;\">\n",
              "\n",
              "  <svg xmlns=\"http://www.w3.org/2000/svg\" height=\"24px\" viewBox=\"0 -960 960 960\">\n",
              "    <path d=\"M120-120v-720h720v720H120Zm60-500h600v-160H180v160Zm220 220h160v-160H400v160Zm0 220h160v-160H400v160ZM180-400h160v-160H180v160Zm440 0h160v-160H620v160ZM180-180h160v-160H180v160Zm440 0h160v-160H620v160Z\"/>\n",
              "  </svg>\n",
              "    </button>\n",
              "\n",
              "  <style>\n",
              "    .colab-df-container {\n",
              "      display:flex;\n",
              "      gap: 12px;\n",
              "    }\n",
              "\n",
              "    .colab-df-convert {\n",
              "      background-color: #E8F0FE;\n",
              "      border: none;\n",
              "      border-radius: 50%;\n",
              "      cursor: pointer;\n",
              "      display: none;\n",
              "      fill: #1967D2;\n",
              "      height: 32px;\n",
              "      padding: 0 0 0 0;\n",
              "      width: 32px;\n",
              "    }\n",
              "\n",
              "    .colab-df-convert:hover {\n",
              "      background-color: #E2EBFA;\n",
              "      box-shadow: 0px 1px 2px rgba(60, 64, 67, 0.3), 0px 1px 3px 1px rgba(60, 64, 67, 0.15);\n",
              "      fill: #174EA6;\n",
              "    }\n",
              "\n",
              "    .colab-df-buttons div {\n",
              "      margin-bottom: 4px;\n",
              "    }\n",
              "\n",
              "    [theme=dark] .colab-df-convert {\n",
              "      background-color: #3B4455;\n",
              "      fill: #D2E3FC;\n",
              "    }\n",
              "\n",
              "    [theme=dark] .colab-df-convert:hover {\n",
              "      background-color: #434B5C;\n",
              "      box-shadow: 0px 1px 3px 1px rgba(0, 0, 0, 0.15);\n",
              "      filter: drop-shadow(0px 1px 2px rgba(0, 0, 0, 0.3));\n",
              "      fill: #FFFFFF;\n",
              "    }\n",
              "  </style>\n",
              "\n",
              "    <script>\n",
              "      const buttonEl =\n",
              "        document.querySelector('#df-b0a36ecd-8a20-4a66-aaae-18d68f79509a button.colab-df-convert');\n",
              "      buttonEl.style.display =\n",
              "        google.colab.kernel.accessAllowed ? 'block' : 'none';\n",
              "\n",
              "      async function convertToInteractive(key) {\n",
              "        const element = document.querySelector('#df-b0a36ecd-8a20-4a66-aaae-18d68f79509a');\n",
              "        const dataTable =\n",
              "          await google.colab.kernel.invokeFunction('convertToInteractive',\n",
              "                                                    [key], {});\n",
              "        if (!dataTable) return;\n",
              "\n",
              "        const docLinkHtml = 'Like what you see? Visit the ' +\n",
              "          '<a target=\"_blank\" href=https://colab.research.google.com/notebooks/data_table.ipynb>data table notebook</a>'\n",
              "          + ' to learn more about interactive tables.';\n",
              "        element.innerHTML = '';\n",
              "        dataTable['output_type'] = 'display_data';\n",
              "        await google.colab.output.renderOutput(dataTable, element);\n",
              "        const docLink = document.createElement('div');\n",
              "        docLink.innerHTML = docLinkHtml;\n",
              "        element.appendChild(docLink);\n",
              "      }\n",
              "    </script>\n",
              "  </div>\n",
              "\n",
              "\n",
              "<div id=\"df-9c7f76fa-eaaa-453d-8b14-8d73425416ef\">\n",
              "  <button class=\"colab-df-quickchart\" onclick=\"quickchart('df-9c7f76fa-eaaa-453d-8b14-8d73425416ef')\"\n",
              "            title=\"Suggest charts\"\n",
              "            style=\"display:none;\">\n",
              "\n",
              "<svg xmlns=\"http://www.w3.org/2000/svg\" height=\"24px\"viewBox=\"0 0 24 24\"\n",
              "     width=\"24px\">\n",
              "    <g>\n",
              "        <path d=\"M19 3H5c-1.1 0-2 .9-2 2v14c0 1.1.9 2 2 2h14c1.1 0 2-.9 2-2V5c0-1.1-.9-2-2-2zM9 17H7v-7h2v7zm4 0h-2V7h2v10zm4 0h-2v-4h2v4z\"/>\n",
              "    </g>\n",
              "</svg>\n",
              "  </button>\n",
              "\n",
              "<style>\n",
              "  .colab-df-quickchart {\n",
              "      --bg-color: #E8F0FE;\n",
              "      --fill-color: #1967D2;\n",
              "      --hover-bg-color: #E2EBFA;\n",
              "      --hover-fill-color: #174EA6;\n",
              "      --disabled-fill-color: #AAA;\n",
              "      --disabled-bg-color: #DDD;\n",
              "  }\n",
              "\n",
              "  [theme=dark] .colab-df-quickchart {\n",
              "      --bg-color: #3B4455;\n",
              "      --fill-color: #D2E3FC;\n",
              "      --hover-bg-color: #434B5C;\n",
              "      --hover-fill-color: #FFFFFF;\n",
              "      --disabled-bg-color: #3B4455;\n",
              "      --disabled-fill-color: #666;\n",
              "  }\n",
              "\n",
              "  .colab-df-quickchart {\n",
              "    background-color: var(--bg-color);\n",
              "    border: none;\n",
              "    border-radius: 50%;\n",
              "    cursor: pointer;\n",
              "    display: none;\n",
              "    fill: var(--fill-color);\n",
              "    height: 32px;\n",
              "    padding: 0;\n",
              "    width: 32px;\n",
              "  }\n",
              "\n",
              "  .colab-df-quickchart:hover {\n",
              "    background-color: var(--hover-bg-color);\n",
              "    box-shadow: 0 1px 2px rgba(60, 64, 67, 0.3), 0 1px 3px 1px rgba(60, 64, 67, 0.15);\n",
              "    fill: var(--button-hover-fill-color);\n",
              "  }\n",
              "\n",
              "  .colab-df-quickchart-complete:disabled,\n",
              "  .colab-df-quickchart-complete:disabled:hover {\n",
              "    background-color: var(--disabled-bg-color);\n",
              "    fill: var(--disabled-fill-color);\n",
              "    box-shadow: none;\n",
              "  }\n",
              "\n",
              "  .colab-df-spinner {\n",
              "    border: 2px solid var(--fill-color);\n",
              "    border-color: transparent;\n",
              "    border-bottom-color: var(--fill-color);\n",
              "    animation:\n",
              "      spin 1s steps(1) infinite;\n",
              "  }\n",
              "\n",
              "  @keyframes spin {\n",
              "    0% {\n",
              "      border-color: transparent;\n",
              "      border-bottom-color: var(--fill-color);\n",
              "      border-left-color: var(--fill-color);\n",
              "    }\n",
              "    20% {\n",
              "      border-color: transparent;\n",
              "      border-left-color: var(--fill-color);\n",
              "      border-top-color: var(--fill-color);\n",
              "    }\n",
              "    30% {\n",
              "      border-color: transparent;\n",
              "      border-left-color: var(--fill-color);\n",
              "      border-top-color: var(--fill-color);\n",
              "      border-right-color: var(--fill-color);\n",
              "    }\n",
              "    40% {\n",
              "      border-color: transparent;\n",
              "      border-right-color: var(--fill-color);\n",
              "      border-top-color: var(--fill-color);\n",
              "    }\n",
              "    60% {\n",
              "      border-color: transparent;\n",
              "      border-right-color: var(--fill-color);\n",
              "    }\n",
              "    80% {\n",
              "      border-color: transparent;\n",
              "      border-right-color: var(--fill-color);\n",
              "      border-bottom-color: var(--fill-color);\n",
              "    }\n",
              "    90% {\n",
              "      border-color: transparent;\n",
              "      border-bottom-color: var(--fill-color);\n",
              "    }\n",
              "  }\n",
              "</style>\n",
              "\n",
              "  <script>\n",
              "    async function quickchart(key) {\n",
              "      const quickchartButtonEl =\n",
              "        document.querySelector('#' + key + ' button');\n",
              "      quickchartButtonEl.disabled = true;  // To prevent multiple clicks.\n",
              "      quickchartButtonEl.classList.add('colab-df-spinner');\n",
              "      try {\n",
              "        const charts = await google.colab.kernel.invokeFunction(\n",
              "            'suggestCharts', [key], {});\n",
              "      } catch (error) {\n",
              "        console.error('Error during call to suggestCharts:', error);\n",
              "      }\n",
              "      quickchartButtonEl.classList.remove('colab-df-spinner');\n",
              "      quickchartButtonEl.classList.add('colab-df-quickchart-complete');\n",
              "    }\n",
              "    (() => {\n",
              "      let quickchartButtonEl =\n",
              "        document.querySelector('#df-9c7f76fa-eaaa-453d-8b14-8d73425416ef button');\n",
              "      quickchartButtonEl.style.display =\n",
              "        google.colab.kernel.accessAllowed ? 'block' : 'none';\n",
              "    })();\n",
              "  </script>\n",
              "</div>\n",
              "    </div>\n",
              "  </div>\n"
            ]
          },
          "metadata": {},
          "execution_count": 17
        }
      ],
      "source": [
        "# Concatenate all DataFrames in 'all_df' vertically, ignoring the original index, and assign the result to 'data'\n",
        "data = pd.concat(all_df, axis=0, ignore_index=True)\n",
        "data"
      ]
    },
    {
      "cell_type": "code",
      "execution_count": 18,
      "id": "bc3989fc",
      "metadata": {
        "colab": {
          "base_uri": "https://localhost:8080/"
        },
        "id": "bc3989fc",
        "outputId": "5f72a693-aaec-4179-da99-0fec5b70bbb5"
      },
      "outputs": [
        {
          "output_type": "execute_result",
          "data": {
            "text/plain": [
              "CONTENT    0\n",
              "CLASS      0\n",
              "dtype: int64"
            ]
          },
          "metadata": {},
          "execution_count": 18
        }
      ],
      "source": [
        "# Calculate the sum of null values for each column in the data\n",
        "data.isnull().sum()"
      ]
    },
    {
      "cell_type": "code",
      "execution_count": 19,
      "id": "7b5a7bbc",
      "metadata": {
        "colab": {
          "base_uri": "https://localhost:8080/"
        },
        "id": "7b5a7bbc",
        "outputId": "6a4f1894-ae86-472a-c2e7-7e8591a626de"
      },
      "outputs": [
        {
          "output_type": "execute_result",
          "data": {
            "text/plain": [
              "1    1004\n",
              "0     951\n",
              "Name: CLASS, dtype: int64"
            ]
          },
          "metadata": {},
          "execution_count": 19
        }
      ],
      "source": [
        "# Count the occurrences of each unique value in the 'CLASS' column of the data\n",
        "data['CLASS'].value_counts()"
      ]
    },
    {
      "cell_type": "markdown",
      "source": [
        "CLASS 1 corresponds to spam and CLASS 0 to ham comments. The dataset is balanced which is a good thing for our Naive Baye's classifier that we will use."
      ],
      "metadata": {
        "id": "L5X0pgGlG3cR"
      },
      "id": "L5X0pgGlG3cR"
    },
    {
      "cell_type": "markdown",
      "id": "3167043b",
      "metadata": {
        "id": "3167043b"
      },
      "source": [
        "### Defining the inputs and the target. Creating the train-test split."
      ]
    },
    {
      "cell_type": "code",
      "execution_count": 22,
      "id": "6e7d4ad1",
      "metadata": {
        "id": "6e7d4ad1"
      },
      "outputs": [],
      "source": [
        "# Assign the 'CONTENT' column of the data to the variable inputs, and the 'CLASS' column to the variable target.\n",
        "inputs = data['CONTENT']\n",
        "target = data['CLASS']"
      ]
    },
    {
      "cell_type": "code",
      "execution_count": 23,
      "id": "5bfcd1ea",
      "metadata": {
        "id": "5bfcd1ea"
      },
      "outputs": [],
      "source": [
        "# Split the inputs and target data into training and testing sets.\n",
        "X_train, X_test, y_train, y_test = train_test_split(inputs, target, test_size=0.2, random_state=42, stratify=target)"
      ]
    },
    {
      "cell_type": "code",
      "execution_count": 24,
      "id": "71f87086",
      "metadata": {
        "scrolled": true,
        "colab": {
          "base_uri": "https://localhost:8080/"
        },
        "id": "71f87086",
        "outputId": "19aead71-7791-40ef-b355-b794e59c4d12"
      },
      "outputs": [
        {
          "output_type": "execute_result",
          "data": {
            "text/plain": [
              "1    0.513427\n",
              "0    0.486573\n",
              "Name: CLASS, dtype: float64"
            ]
          },
          "metadata": {},
          "execution_count": 24
        }
      ],
      "source": [
        "# Calculate the normalized value counts of each unique value in the y_train Series\n",
        "y_train.value_counts(normalize=True)"
      ]
    },
    {
      "cell_type": "code",
      "execution_count": 25,
      "id": "3afe150d",
      "metadata": {
        "colab": {
          "base_uri": "https://localhost:8080/"
        },
        "id": "3afe150d",
        "outputId": "95c98377-c2e1-42d4-d488-476870cc608c"
      },
      "outputs": [
        {
          "output_type": "execute_result",
          "data": {
            "text/plain": [
              "1    0.514066\n",
              "0    0.485934\n",
              "Name: CLASS, dtype: float64"
            ]
          },
          "metadata": {},
          "execution_count": 25
        }
      ],
      "source": [
        "# Calculate the normalized value counts of each unique value in the y_test Series\n",
        "y_test.value_counts(normalize=True)"
      ]
    },
    {
      "cell_type": "markdown",
      "id": "14e8a85e",
      "metadata": {
        "id": "14e8a85e"
      },
      "source": [
        "### Tokenizing the YouTube comments"
      ]
    },
    {
      "cell_type": "code",
      "execution_count": 26,
      "id": "7b8d139d",
      "metadata": {
        "id": "7b8d139d"
      },
      "outputs": [],
      "source": [
        "# Create an instance of the CountVectorizer class\n",
        "vectorizer= CountVectorizer()"
      ]
    },
    {
      "cell_type": "code",
      "execution_count": 27,
      "id": "297e9317",
      "metadata": {
        "id": "297e9317"
      },
      "outputs": [],
      "source": [
        "# Fit the vectorizer to the training data and transforms the training data into a matrix of token counts.\n",
        "# Then transform the test data into a matrix of token counts using the same vocabulary learned from the training data.\n",
        "X_train_transf = vectorizer.fit_transform(X_train)\n",
        "X_test_transf = vectorizer.transform(X_test)"
      ]
    },
    {
      "cell_type": "code",
      "execution_count": 28,
      "id": "619d169e",
      "metadata": {
        "colab": {
          "base_uri": "https://localhost:8080/"
        },
        "id": "619d169e",
        "outputId": "43cf4fb8-9960-4d80-b52e-a800265dde41"
      },
      "outputs": [
        {
          "output_type": "execute_result",
          "data": {
            "text/plain": [
              "array([[0, 0, 0, ..., 0, 0, 0],\n",
              "       [0, 0, 0, ..., 0, 0, 0],\n",
              "       [0, 0, 0, ..., 0, 0, 0],\n",
              "       ...,\n",
              "       [0, 0, 0, ..., 0, 0, 0],\n",
              "       [0, 0, 0, ..., 0, 0, 0],\n",
              "       [0, 0, 0, ..., 0, 0, 0]])"
            ]
          },
          "metadata": {},
          "execution_count": 28
        }
      ],
      "source": [
        "# Convert the sparse matrix X_train_transf into a dense array representation.\n",
        "X_train_transf.toarray()"
      ]
    },
    {
      "cell_type": "code",
      "execution_count": 29,
      "id": "b568b208",
      "metadata": {
        "colab": {
          "base_uri": "https://localhost:8080/"
        },
        "id": "b568b208",
        "outputId": "3264c3d3-3fb8-4f46-e8b6-471eb6cbe755"
      },
      "outputs": [
        {
          "output_type": "execute_result",
          "data": {
            "text/plain": [
              "(1564, 3907)"
            ]
          },
          "metadata": {},
          "execution_count": 29
        }
      ],
      "source": [
        "X_train_transf.shape"
      ]
    },
    {
      "cell_type": "code",
      "execution_count": 30,
      "id": "01926f32",
      "metadata": {
        "colab": {
          "base_uri": "https://localhost:8080/"
        },
        "id": "01926f32",
        "outputId": "5b7627cc-491c-4223-bfbd-4e925d86a51c"
      },
      "outputs": [
        {
          "output_type": "execute_result",
          "data": {
            "text/plain": [
              "(391, 3907)"
            ]
          },
          "metadata": {},
          "execution_count": 30
        }
      ],
      "source": [
        "X_test_transf.shape"
      ]
    },
    {
      "cell_type": "markdown",
      "id": "a11cdb00",
      "metadata": {
        "id": "a11cdb00"
      },
      "source": [
        "### Performing the classification"
      ]
    },
    {
      "cell_type": "code",
      "execution_count": 32,
      "id": "3ce116cd",
      "metadata": {
        "id": "3ce116cd"
      },
      "outputs": [],
      "source": [
        "# Create an instance of the MultinomialNB class\n",
        "clf = MultinomialNB()"
      ]
    },
    {
      "cell_type": "code",
      "execution_count": 33,
      "id": "4f6bd4a7",
      "metadata": {
        "colab": {
          "base_uri": "https://localhost:8080/",
          "height": 75
        },
        "id": "4f6bd4a7",
        "outputId": "bd585cde-bdaa-4065-e343-f43d4ac0f7e3"
      },
      "outputs": [
        {
          "output_type": "execute_result",
          "data": {
            "text/plain": [
              "MultinomialNB()"
            ],
            "text/html": [
              "<style>#sk-container-id-1 {color: black;background-color: white;}#sk-container-id-1 pre{padding: 0;}#sk-container-id-1 div.sk-toggleable {background-color: white;}#sk-container-id-1 label.sk-toggleable__label {cursor: pointer;display: block;width: 100%;margin-bottom: 0;padding: 0.3em;box-sizing: border-box;text-align: center;}#sk-container-id-1 label.sk-toggleable__label-arrow:before {content: \"▸\";float: left;margin-right: 0.25em;color: #696969;}#sk-container-id-1 label.sk-toggleable__label-arrow:hover:before {color: black;}#sk-container-id-1 div.sk-estimator:hover label.sk-toggleable__label-arrow:before {color: black;}#sk-container-id-1 div.sk-toggleable__content {max-height: 0;max-width: 0;overflow: hidden;text-align: left;background-color: #f0f8ff;}#sk-container-id-1 div.sk-toggleable__content pre {margin: 0.2em;color: black;border-radius: 0.25em;background-color: #f0f8ff;}#sk-container-id-1 input.sk-toggleable__control:checked~div.sk-toggleable__content {max-height: 200px;max-width: 100%;overflow: auto;}#sk-container-id-1 input.sk-toggleable__control:checked~label.sk-toggleable__label-arrow:before {content: \"▾\";}#sk-container-id-1 div.sk-estimator input.sk-toggleable__control:checked~label.sk-toggleable__label {background-color: #d4ebff;}#sk-container-id-1 div.sk-label input.sk-toggleable__control:checked~label.sk-toggleable__label {background-color: #d4ebff;}#sk-container-id-1 input.sk-hidden--visually {border: 0;clip: rect(1px 1px 1px 1px);clip: rect(1px, 1px, 1px, 1px);height: 1px;margin: -1px;overflow: hidden;padding: 0;position: absolute;width: 1px;}#sk-container-id-1 div.sk-estimator {font-family: monospace;background-color: #f0f8ff;border: 1px dotted black;border-radius: 0.25em;box-sizing: border-box;margin-bottom: 0.5em;}#sk-container-id-1 div.sk-estimator:hover {background-color: #d4ebff;}#sk-container-id-1 div.sk-parallel-item::after {content: \"\";width: 100%;border-bottom: 1px solid gray;flex-grow: 1;}#sk-container-id-1 div.sk-label:hover label.sk-toggleable__label {background-color: #d4ebff;}#sk-container-id-1 div.sk-serial::before {content: \"\";position: absolute;border-left: 1px solid gray;box-sizing: border-box;top: 0;bottom: 0;left: 50%;z-index: 0;}#sk-container-id-1 div.sk-serial {display: flex;flex-direction: column;align-items: center;background-color: white;padding-right: 0.2em;padding-left: 0.2em;position: relative;}#sk-container-id-1 div.sk-item {position: relative;z-index: 1;}#sk-container-id-1 div.sk-parallel {display: flex;align-items: stretch;justify-content: center;background-color: white;position: relative;}#sk-container-id-1 div.sk-item::before, #sk-container-id-1 div.sk-parallel-item::before {content: \"\";position: absolute;border-left: 1px solid gray;box-sizing: border-box;top: 0;bottom: 0;left: 50%;z-index: -1;}#sk-container-id-1 div.sk-parallel-item {display: flex;flex-direction: column;z-index: 1;position: relative;background-color: white;}#sk-container-id-1 div.sk-parallel-item:first-child::after {align-self: flex-end;width: 50%;}#sk-container-id-1 div.sk-parallel-item:last-child::after {align-self: flex-start;width: 50%;}#sk-container-id-1 div.sk-parallel-item:only-child::after {width: 0;}#sk-container-id-1 div.sk-dashed-wrapped {border: 1px dashed gray;margin: 0 0.4em 0.5em 0.4em;box-sizing: border-box;padding-bottom: 0.4em;background-color: white;}#sk-container-id-1 div.sk-label label {font-family: monospace;font-weight: bold;display: inline-block;line-height: 1.2em;}#sk-container-id-1 div.sk-label-container {text-align: center;}#sk-container-id-1 div.sk-container {/* jupyter's `normalize.less` sets `[hidden] { display: none; }` but bootstrap.min.css set `[hidden] { display: none !important; }` so we also need the `!important` here to be able to override the default hidden behavior on the sphinx rendered scikit-learn.org. See: https://github.com/scikit-learn/scikit-learn/issues/21755 */display: inline-block !important;position: relative;}#sk-container-id-1 div.sk-text-repr-fallback {display: none;}</style><div id=\"sk-container-id-1\" class=\"sk-top-container\"><div class=\"sk-text-repr-fallback\"><pre>MultinomialNB()</pre><b>In a Jupyter environment, please rerun this cell to show the HTML representation or trust the notebook. <br />On GitHub, the HTML representation is unable to render, please try loading this page with nbviewer.org.</b></div><div class=\"sk-container\" hidden><div class=\"sk-item\"><div class=\"sk-estimator sk-toggleable\"><input class=\"sk-toggleable__control sk-hidden--visually\" id=\"sk-estimator-id-1\" type=\"checkbox\" checked><label for=\"sk-estimator-id-1\" class=\"sk-toggleable__label sk-toggleable__label-arrow\">MultinomialNB</label><div class=\"sk-toggleable__content\"><pre>MultinomialNB()</pre></div></div></div></div></div>"
            ]
          },
          "metadata": {},
          "execution_count": 33
        }
      ],
      "source": [
        "# Train the clf classifier using the training data X_train_transf and the corresponding labels y_train.\n",
        "clf.fit(X_train_transf, y_train)"
      ]
    },
    {
      "cell_type": "markdown",
      "id": "0b0d523f",
      "metadata": {
        "id": "0b0d523f"
      },
      "source": [
        "### Performing the evaluation on the test dataset"
      ]
    },
    {
      "cell_type": "code",
      "execution_count": 34,
      "id": "47a3d7bf",
      "metadata": {
        "id": "47a3d7bf"
      },
      "outputs": [],
      "source": [
        "# Use the trained classifier clf to make predictions on the test data X_test_transf.\n",
        "y_test_pred= clf.predict(X_test_transf)"
      ]
    },
    {
      "cell_type": "code",
      "execution_count": 38,
      "id": "344760ab",
      "metadata": {
        "colab": {
          "base_uri": "https://localhost:8080/",
          "height": 449
        },
        "id": "344760ab",
        "outputId": "8f223e38-eafb-4f2c-99b0-93c2f8003d1f"
      },
      "outputs": [
        {
          "output_type": "display_data",
          "data": {
            "text/plain": [
              "<Figure size 640x480 with 2 Axes>"
            ],
            "image/png": "[encoded data removed]"
          },
          "metadata": {}
        }
      ],
      "source": [
        "# Create a confusion matrix display based on the predicted labels y_test_pred and the true labels y_test.\n",
        "ConfusionMatrixDisplay.from_predictions(y_test, y_test_pred, labels=clf.classes_, cmap='magma')\n",
        "plt.show()"
      ]
    },
    {
      "cell_type": "code",
      "execution_count": 39,
      "id": "25db1187",
      "metadata": {
        "colab": {
          "base_uri": "https://localhost:8080/"
        },
        "id": "25db1187",
        "outputId": "d47e4357-63bb-4d4d-810f-bc8d8f2bb75f"
      },
      "outputs": [
        {
          "output_type": "stream",
          "name": "stdout",
          "text": [
            "              precision    recall  f1-score   support\n",
            "\n",
            "         Ham       0.95      0.84      0.89       190\n",
            "        Spam       0.87      0.96      0.91       201\n",
            "\n",
            "    accuracy                           0.90       391\n",
            "   macro avg       0.91      0.90      0.90       391\n",
            "weighted avg       0.91      0.90      0.90       391\n",
            "\n"
          ]
        }
      ],
      "source": [
        "# Print a classification report based on the predicted labels y_test_pred and the true labels y_test.\n",
        "print(classification_report(y_test, y_test_pred, target_names=['Ham', 'Spam']))"
      ]
    },
    {
      "cell_type": "markdown",
      "id": "820ec641",
      "metadata": {
        "id": "820ec641"
      },
      "source": [
        "### Creating probability-distribution figures"
      ]
    },
    {
      "cell_type": "code",
      "execution_count": 41,
      "id": "8b8f7e88",
      "metadata": {
        "colab": {
          "base_uri": "https://localhost:8080/",
          "height": 476
        },
        "id": "8b8f7e88",
        "outputId": "a008f50c-1320-41df-f8ea-584e94e62b58"
      },
      "outputs": [
        {
          "output_type": "display_data",
          "data": {
            "text/plain": [
              "<Figure size 1200x500 with 2 Axes>"
            ],
            "image/png": "[encoded data removed]"
          },
          "metadata": {}
        }
      ],
      "source": [
        "# Create a scatter plot to visualize the predicted probabilities of comments belonging to different classes.\n",
        "spam_proba = clf.predict_proba(X_test_transf).round(3)[:,1];\n",
        "\n",
        "df_scatter = pd.DataFrame()\n",
        "\n",
        "df_scatter['True class'] = y_test\n",
        "df_scatter['Predicted class'] = y_test_pred\n",
        "df_scatter['Predicted probability (spam)'] = spam_proba\n",
        "\n",
        "df_scatter = df_scatter.reset_index(drop = True)\n",
        "\n",
        "palette_0 = sns.color_palette(['#000000'])\n",
        "palette_1 = sns.color_palette(['#FF0000'])\n",
        "\n",
        "df_scatter_0 = df_scatter[df_scatter['True class'] == 0].reset_index(drop = True)\n",
        "df_scatter_1 = df_scatter[df_scatter['True class'] == 1].reset_index(drop = True)\n",
        "\n",
        "sns.set()\n",
        "\n",
        "fig, (ax1,ax2) = plt.subplots(2,1, figsize=(12,5))\n",
        "fig.tight_layout(pad = 3)\n",
        "\n",
        "sns.scatterplot(x = 'Predicted probability (spam)',\n",
        "                y = np.zeros(df_scatter_0.shape[0]),\n",
        "                data = df_scatter_0,\n",
        "                hue = 'True class',\n",
        "                s = 50,\n",
        "                markers = ['o'],\n",
        "                palette = palette_0,\n",
        "                style = 'True class',\n",
        "                legend = False,\n",
        "                ax = ax1).set(yticklabels=[])\n",
        "\n",
        "ax1.set_title('Probability distribution of comments belonging to the true \\'ham\\' class')\n",
        "ax1.vlines(0.5, -1, 1, linestyles = 'dashed', colors = 'red');\n",
        "\n",
        "\n",
        "sns.scatterplot(x = 'Predicted probability (spam)',\n",
        "                y = np.zeros(df_scatter_1.shape[0]),\n",
        "                hue = 'True class',\n",
        "                data = df_scatter_1,\n",
        "                s = 50,\n",
        "                palette = palette_1,\n",
        "                markers = ['X'],\n",
        "                style = 'True class',\n",
        "                legend = False,\n",
        "                ax = ax2).set(yticklabels=[])\n",
        "\n",
        "ax2.set_title('Probability distribution of comments belonging to the true \\'spam\\' class')\n",
        "\n",
        "ax2.vlines(0.5, -1, 1, linestyles = 'dashed', colors = 'red');"
      ]
    },
    {
      "cell_type": "markdown",
      "id": "3d6fb120",
      "metadata": {
        "id": "3d6fb120"
      },
      "source": [
        "### Making predictions"
      ]
    },
    {
      "cell_type": "code",
      "execution_count": 42,
      "id": "7d261220",
      "metadata": {
        "id": "7d261220"
      },
      "outputs": [],
      "source": [
        "predict_data = vectorizer.transform(['This song is amazing!',\n",
        "                                     'You can win 1m dollars right now, just click here!!!'])"
      ]
    },
    {
      "cell_type": "code",
      "execution_count": 43,
      "id": "861be544",
      "metadata": {
        "colab": {
          "base_uri": "https://localhost:8080/"
        },
        "id": "861be544",
        "outputId": "97040391-545e-4974-ab28-79d74afff566"
      },
      "outputs": [
        {
          "output_type": "execute_result",
          "data": {
            "text/plain": [
              "array([0, 1])"
            ]
          },
          "metadata": {},
          "execution_count": 43
        }
      ],
      "source": [
        "clf.predict(predict_data)"
      ]
    },
    {
      "cell_type": "markdown",
      "source": [
        "## Creating better model 2"
      ],
      "metadata": {
        "id": "HPzFvunCYTYb"
      },
      "id": "HPzFvunCYTYb"
    },
    {
      "cell_type": "code",
      "source": [
        "# Create an instance of the MultinomialNB class\n",
        "clf2 = ComplementNB()"
      ],
      "metadata": {
        "id": "zNgjoUQ6Ycxj"
      },
      "id": "zNgjoUQ6Ycxj",
      "execution_count": 54,
      "outputs": []
    },
    {
      "cell_type": "code",
      "source": [
        "# Train the clf classifier using the training data X_train_transf and the corresponding labels y_train.\n",
        "clf2.fit(X_train_transf, y_train)"
      ],
      "metadata": {
        "colab": {
          "base_uri": "https://localhost:8080/",
          "height": 75
        },
        "id": "OfUwpAYxYhyN",
        "outputId": "97f2ddde-f300-4104-a65a-4141a2e21c40"
      },
      "id": "OfUwpAYxYhyN",
      "execution_count": 55,
      "outputs": [
        {
          "output_type": "execute_result",
          "data": {
            "text/plain": [
              "ComplementNB()"
            ],
            "text/html": [
              "<style>#sk-container-id-4 {color: black;background-color: white;}#sk-container-id-4 pre{padding: 0;}#sk-container-id-4 div.sk-toggleable {background-color: white;}#sk-container-id-4 label.sk-toggleable__label {cursor: pointer;display: block;width: 100%;margin-bottom: 0;padding: 0.3em;box-sizing: border-box;text-align: center;}#sk-container-id-4 label.sk-toggleable__label-arrow:before {content: \"▸\";float: left;margin-right: 0.25em;color: #696969;}#sk-container-id-4 label.sk-toggleable__label-arrow:hover:before {color: black;}#sk-container-id-4 div.sk-estimator:hover label.sk-toggleable__label-arrow:before {color: black;}#sk-container-id-4 div.sk-toggleable__content {max-height: 0;max-width: 0;overflow: hidden;text-align: left;background-color: #f0f8ff;}#sk-container-id-4 div.sk-toggleable__content pre {margin: 0.2em;color: black;border-radius: 0.25em;background-color: #f0f8ff;}#sk-container-id-4 input.sk-toggleable__control:checked~div.sk-toggleable__content {max-height: 200px;max-width: 100%;overflow: auto;}#sk-container-id-4 input.sk-toggleable__control:checked~label.sk-toggleable__label-arrow:before {content: \"▾\";}#sk-container-id-4 div.sk-estimator input.sk-toggleable__control:checked~label.sk-toggleable__label {background-color: #d4ebff;}#sk-container-id-4 div.sk-label input.sk-toggleable__control:checked~label.sk-toggleable__label {background-color: #d4ebff;}#sk-container-id-4 input.sk-hidden--visually {border: 0;clip: rect(1px 1px 1px 1px);clip: rect(1px, 1px, 1px, 1px);height: 1px;margin: -1px;overflow: hidden;padding: 0;position: absolute;width: 1px;}#sk-container-id-4 div.sk-estimator {font-family: monospace;background-color: #f0f8ff;border: 1px dotted black;border-radius: 0.25em;box-sizing: border-box;margin-bottom: 0.5em;}#sk-container-id-4 div.sk-estimator:hover {background-color: #d4ebff;}#sk-container-id-4 div.sk-parallel-item::after {content: \"\";width: 100%;border-bottom: 1px solid gray;flex-grow: 1;}#sk-container-id-4 div.sk-label:hover label.sk-toggleable__label {background-color: #d4ebff;}#sk-container-id-4 div.sk-serial::before {content: \"\";position: absolute;border-left: 1px solid gray;box-sizing: border-box;top: 0;bottom: 0;left: 50%;z-index: 0;}#sk-container-id-4 div.sk-serial {display: flex;flex-direction: column;align-items: center;background-color: white;padding-right: 0.2em;padding-left: 0.2em;position: relative;}#sk-container-id-4 div.sk-item {position: relative;z-index: 1;}#sk-container-id-4 div.sk-parallel {display: flex;align-items: stretch;justify-content: center;background-color: white;position: relative;}#sk-container-id-4 div.sk-item::before, #sk-container-id-4 div.sk-parallel-item::before {content: \"\";position: absolute;border-left: 1px solid gray;box-sizing: border-box;top: 0;bottom: 0;left: 50%;z-index: -1;}#sk-container-id-4 div.sk-parallel-item {display: flex;flex-direction: column;z-index: 1;position: relative;background-color: white;}#sk-container-id-4 div.sk-parallel-item:first-child::after {align-self: flex-end;width: 50%;}#sk-container-id-4 div.sk-parallel-item:last-child::after {align-self: flex-start;width: 50%;}#sk-container-id-4 div.sk-parallel-item:only-child::after {width: 0;}#sk-container-id-4 div.sk-dashed-wrapped {border: 1px dashed gray;margin: 0 0.4em 0.5em 0.4em;box-sizing: border-box;padding-bottom: 0.4em;background-color: white;}#sk-container-id-4 div.sk-label label {font-family: monospace;font-weight: bold;display: inline-block;line-height: 1.2em;}#sk-container-id-4 div.sk-label-container {text-align: center;}#sk-container-id-4 div.sk-container {/* jupyter's `normalize.less` sets `[hidden] { display: none; }` but bootstrap.min.css set `[hidden] { display: none !important; }` so we also need the `!important` here to be able to override the default hidden behavior on the sphinx rendered scikit-learn.org. See: https://github.com/scikit-learn/scikit-learn/issues/21755 */display: inline-block !important;position: relative;}#sk-container-id-4 div.sk-text-repr-fallback {display: none;}</style><div id=\"sk-container-id-4\" class=\"sk-top-container\"><div class=\"sk-text-repr-fallback\"><pre>ComplementNB()</pre><b>In a Jupyter environment, please rerun this cell to show the HTML representation or trust the notebook. <br />On GitHub, the HTML representation is unable to render, please try loading this page with nbviewer.org.</b></div><div class=\"sk-container\" hidden><div class=\"sk-item\"><div class=\"sk-estimator sk-toggleable\"><input class=\"sk-toggleable__control sk-hidden--visually\" id=\"sk-estimator-id-4\" type=\"checkbox\" checked><label for=\"sk-estimator-id-4\" class=\"sk-toggleable__label sk-toggleable__label-arrow\">ComplementNB</label><div class=\"sk-toggleable__content\"><pre>ComplementNB()</pre></div></div></div></div></div>"
            ]
          },
          "metadata": {},
          "execution_count": 55
        }
      ]
    },
    {
      "cell_type": "code",
      "source": [
        "# Use the trained classifier clf to make predictions on the test data X_test_transf.\n",
        "y_test_pred= clf2.predict(X_test_transf)"
      ],
      "metadata": {
        "id": "cxCbEKRwYoBo"
      },
      "id": "cxCbEKRwYoBo",
      "execution_count": 56,
      "outputs": []
    },
    {
      "cell_type": "code",
      "source": [
        "sns.reset_orig()\n",
        "\n",
        "# Create a confusion matrix display based on the predicted labels y_test_pred and the true labels y_test.\n",
        "ConfusionMatrixDisplay.from_predictions(y_test, y_test_pred, labels=clf2.classes_, cmap='magma')\n",
        "plt.show()"
      ],
      "metadata": {
        "colab": {
          "base_uri": "https://localhost:8080/",
          "height": 449
        },
        "id": "k_AUpvboYrUF",
        "outputId": "814a2da0-e40a-43c6-f242-2534693978a0"
      },
      "id": "k_AUpvboYrUF",
      "execution_count": 60,
      "outputs": [
        {
          "output_type": "display_data",
          "data": {
            "text/plain": [
              "<Figure size 640x480 with 2 Axes>"
            ],
            "image/png": "[encoded data removed]"
          },
          "metadata": {}
        }
      ]
    },
    {
      "cell_type": "code",
      "source": [
        "# Print a classification report based on the predicted labels y_test_pred and the true labels y_test.\n",
        "print(classification_report(y_test, y_test_pred, target_names=['Ham', 'Spam']))"
      ],
      "metadata": {
        "colab": {
          "base_uri": "https://localhost:8080/"
        },
        "id": "aEmUe1lzYuJe",
        "outputId": "143f109e-172b-42c5-b8e2-f1545e3e7dfd"
      },
      "id": "aEmUe1lzYuJe",
      "execution_count": 58,
      "outputs": [
        {
          "output_type": "stream",
          "name": "stdout",
          "text": [
            "              precision    recall  f1-score   support\n",
            "\n",
            "         Ham       0.95      0.88      0.92       190\n",
            "        Spam       0.90      0.96      0.93       201\n",
            "\n",
            "    accuracy                           0.92       391\n",
            "   macro avg       0.93      0.92      0.92       391\n",
            "weighted avg       0.93      0.92      0.92       391\n",
            "\n"
          ]
        }
      ]
    },
    {
      "cell_type": "code",
      "source": [
        "# Create a scatter plot to visualize the predicted probabilities of comments belonging to different classes.\n",
        "spam_proba = clf2.predict_proba(X_test_transf).round(3)[:,1];\n",
        "\n",
        "df_scatter2 = pd.DataFrame()\n",
        "\n",
        "df_scatter2['True class'] = y_test\n",
        "df_scatter2['Predicted class'] = y_test_pred\n",
        "df_scatter2['Predicted probability (spam)'] = spam_proba\n",
        "\n",
        "df_scatter2 = df_scatter2.reset_index(drop = True)\n",
        "\n",
        "palette_0 = sns.color_palette(['#000000'])\n",
        "palette_1 = sns.color_palette(['#FF0000'])\n",
        "\n",
        "df_scatter_0_2 = df_scatter2[df_scatter2['True class'] == 0].reset_index(drop = True)\n",
        "df_scatter_1_2 = df_scatter2[df_scatter2['True class'] == 1].reset_index(drop = True)\n",
        "\n",
        "sns.set()\n",
        "\n",
        "fig, (ax1,ax2) = plt.subplots(2,1, figsize=(12,5))\n",
        "fig.tight_layout(pad = 3)\n",
        "\n",
        "sns.scatterplot(x = 'Predicted probability (spam)',\n",
        "                y = np.zeros(df_scatter_0_2.shape[0]),\n",
        "                data = df_scatter_0_2,\n",
        "                hue = 'True class',\n",
        "                s = 50,\n",
        "                markers = ['o'],\n",
        "                palette = palette_0,\n",
        "                style = 'True class',\n",
        "                legend = False,\n",
        "                ax = ax1).set(yticklabels=[])\n",
        "\n",
        "ax1.set_title('Probability distribution of comments belonging to the true \\'ham\\' class')\n",
        "ax1.vlines(0.5, -1, 1, linestyles = 'dashed', colors = 'red');\n",
        "\n",
        "\n",
        "sns.scatterplot(x = 'Predicted probability (spam)',\n",
        "                y = np.zeros(df_scatter_1_2.shape[0]),\n",
        "                hue = 'True class',\n",
        "                data = df_scatter_1_2,\n",
        "                s = 50,\n",
        "                palette = palette_1,\n",
        "                markers = ['X'],\n",
        "                style = 'True class',\n",
        "                legend = False,\n",
        "                ax = ax2).set(yticklabels=[])\n",
        "\n",
        "ax2.set_title('Probability distribution of comments belonging to the true \\'spam\\' class')\n",
        "\n",
        "ax2.vlines(0.5, -1, 1, linestyles = 'dashed', colors = 'red');"
      ],
      "metadata": {
        "colab": {
          "base_uri": "https://localhost:8080/",
          "height": 476
        },
        "id": "UoLsGOKsYyGj",
        "outputId": "c53fb854-24b7-4cf4-f178-b50a866a1634"
      },
      "id": "UoLsGOKsYyGj",
      "execution_count": 59,
      "outputs": [
        {
          "output_type": "display_data",
          "data": {
            "text/plain": [
              "<Figure size 1200x500 with 2 Axes>"
            ],
            "image/png": "[encoded data removed]"
          },
          "metadata": {}
        }
      ]
    },
    {
      "cell_type": "markdown",
      "source": [
        "## Creating better model 3"
      ],
      "metadata": {
        "id": "hZR1oRerbDxr"
      },
      "id": "hZR1oRerbDxr"
    },
    {
      "cell_type": "code",
      "source": [
        "# Create an instance of the MultinomialNB class\n",
        "clf3 = MultinomialNB(class_prior=np.array([0.6, 0.4]))"
      ],
      "metadata": {
        "id": "uldNjuYpbImG"
      },
      "id": "uldNjuYpbImG",
      "execution_count": 61,
      "outputs": []
    },
    {
      "cell_type": "code",
      "source": [
        "# Train the clf classifier using the training data X_train_transf and the corresponding labels y_train.\n",
        "clf3.fit(X_train_transf, y_train)"
      ],
      "metadata": {
        "colab": {
          "base_uri": "https://localhost:8080/",
          "height": 75
        },
        "id": "tWroVZMJbZ7i",
        "outputId": "b2c6f80d-7ddd-4fb6-dcf4-bb6fb713e862"
      },
      "id": "tWroVZMJbZ7i",
      "execution_count": 62,
      "outputs": [
        {
          "output_type": "execute_result",
          "data": {
            "text/plain": [
              "MultinomialNB(class_prior=array([0.6, 0.4]))"
            ],
            "text/html": [
              "<style>#sk-container-id-5 {color: black;background-color: white;}#sk-container-id-5 pre{padding: 0;}#sk-container-id-5 div.sk-toggleable {background-color: white;}#sk-container-id-5 label.sk-toggleable__label {cursor: pointer;display: block;width: 100%;margin-bottom: 0;padding: 0.3em;box-sizing: border-box;text-align: center;}#sk-container-id-5 label.sk-toggleable__label-arrow:before {content: \"▸\";float: left;margin-right: 0.25em;color: #696969;}#sk-container-id-5 label.sk-toggleable__label-arrow:hover:before {color: black;}#sk-container-id-5 div.sk-estimator:hover label.sk-toggleable__label-arrow:before {color: black;}#sk-container-id-5 div.sk-toggleable__content {max-height: 0;max-width: 0;overflow: hidden;text-align: left;background-color: #f0f8ff;}#sk-container-id-5 div.sk-toggleable__content pre {margin: 0.2em;color: black;border-radius: 0.25em;background-color: #f0f8ff;}#sk-container-id-5 input.sk-toggleable__control:checked~div.sk-toggleable__content {max-height: 200px;max-width: 100%;overflow: auto;}#sk-container-id-5 input.sk-toggleable__control:checked~label.sk-toggleable__label-arrow:before {content: \"▾\";}#sk-container-id-5 div.sk-estimator input.sk-toggleable__control:checked~label.sk-toggleable__label {background-color: #d4ebff;}#sk-container-id-5 div.sk-label input.sk-toggleable__control:checked~label.sk-toggleable__label {background-color: #d4ebff;}#sk-container-id-5 input.sk-hidden--visually {border: 0;clip: rect(1px 1px 1px 1px);clip: rect(1px, 1px, 1px, 1px);height: 1px;margin: -1px;overflow: hidden;padding: 0;position: absolute;width: 1px;}#sk-container-id-5 div.sk-estimator {font-family: monospace;background-color: #f0f8ff;border: 1px dotted black;border-radius: 0.25em;box-sizing: border-box;margin-bottom: 0.5em;}#sk-container-id-5 div.sk-estimator:hover {background-color: #d4ebff;}#sk-container-id-5 div.sk-parallel-item::after {content: \"\";width: 100%;border-bottom: 1px solid gray;flex-grow: 1;}#sk-container-id-5 div.sk-label:hover label.sk-toggleable__label {background-color: #d4ebff;}#sk-container-id-5 div.sk-serial::before {content: \"\";position: absolute;border-left: 1px solid gray;box-sizing: border-box;top: 0;bottom: 0;left: 50%;z-index: 0;}#sk-container-id-5 div.sk-serial {display: flex;flex-direction: column;align-items: center;background-color: white;padding-right: 0.2em;padding-left: 0.2em;position: relative;}#sk-container-id-5 div.sk-item {position: relative;z-index: 1;}#sk-container-id-5 div.sk-parallel {display: flex;align-items: stretch;justify-content: center;background-color: white;position: relative;}#sk-container-id-5 div.sk-item::before, #sk-container-id-5 div.sk-parallel-item::before {content: \"\";position: absolute;border-left: 1px solid gray;box-sizing: border-box;top: 0;bottom: 0;left: 50%;z-index: -1;}#sk-container-id-5 div.sk-parallel-item {display: flex;flex-direction: column;z-index: 1;position: relative;background-color: white;}#sk-container-id-5 div.sk-parallel-item:first-child::after {align-self: flex-end;width: 50%;}#sk-container-id-5 div.sk-parallel-item:last-child::after {align-self: flex-start;width: 50%;}#sk-container-id-5 div.sk-parallel-item:only-child::after {width: 0;}#sk-container-id-5 div.sk-dashed-wrapped {border: 1px dashed gray;margin: 0 0.4em 0.5em 0.4em;box-sizing: border-box;padding-bottom: 0.4em;background-color: white;}#sk-container-id-5 div.sk-label label {font-family: monospace;font-weight: bold;display: inline-block;line-height: 1.2em;}#sk-container-id-5 div.sk-label-container {text-align: center;}#sk-container-id-5 div.sk-container {/* jupyter's `normalize.less` sets `[hidden] { display: none; }` but bootstrap.min.css set `[hidden] { display: none !important; }` so we also need the `!important` here to be able to override the default hidden behavior on the sphinx rendered scikit-learn.org. See: https://github.com/scikit-learn/scikit-learn/issues/21755 */display: inline-block !important;position: relative;}#sk-container-id-5 div.sk-text-repr-fallback {display: none;}</style><div id=\"sk-container-id-5\" class=\"sk-top-container\"><div class=\"sk-text-repr-fallback\"><pre>MultinomialNB(class_prior=array([0.6, 0.4]))</pre><b>In a Jupyter environment, please rerun this cell to show the HTML representation or trust the notebook. <br />On GitHub, the HTML representation is unable to render, please try loading this page with nbviewer.org.</b></div><div class=\"sk-container\" hidden><div class=\"sk-item\"><div class=\"sk-estimator sk-toggleable\"><input class=\"sk-toggleable__control sk-hidden--visually\" id=\"sk-estimator-id-5\" type=\"checkbox\" checked><label for=\"sk-estimator-id-5\" class=\"sk-toggleable__label sk-toggleable__label-arrow\">MultinomialNB</label><div class=\"sk-toggleable__content\"><pre>MultinomialNB(class_prior=array([0.6, 0.4]))</pre></div></div></div></div></div>"
            ]
          },
          "metadata": {},
          "execution_count": 62
        }
      ]
    },
    {
      "cell_type": "code",
      "source": [
        "# Use the trained classifier clf to make predictions on the test data X_test_transf.\n",
        "y_test_pred= clf3.predict(X_test_transf)"
      ],
      "metadata": {
        "id": "TCA3uum7bdWz"
      },
      "id": "TCA3uum7bdWz",
      "execution_count": 63,
      "outputs": []
    },
    {
      "cell_type": "code",
      "source": [
        "sns.reset_orig()\n",
        "\n",
        "# Create a confusion matrix display based on the predicted labels y_test_pred and the true labels y_test.\n",
        "ConfusionMatrixDisplay.from_predictions(y_test, y_test_pred, labels=clf3.classes_, cmap='magma')\n",
        "plt.show()"
      ],
      "metadata": {
        "colab": {
          "base_uri": "https://localhost:8080/",
          "height": 449
        },
        "id": "SR0wzeD0bkBU",
        "outputId": "44e6bcc2-1313-4b3d-f985-17408978c577"
      },
      "id": "SR0wzeD0bkBU",
      "execution_count": 64,
      "outputs": [
        {
          "output_type": "display_data",
          "data": {
            "text/plain": [
              "<Figure size 640x480 with 2 Axes>"
            ],
            "image/png": "[encoded data removed]"
          },
          "metadata": {}
        }
      ]
    },
    {
      "cell_type": "code",
      "source": [
        "# Print a classification report based on the predicted labels y_test_pred and the true labels y_test.\n",
        "print(classification_report(y_test, y_test_pred, target_names=['Ham', 'Spam']))"
      ],
      "metadata": {
        "colab": {
          "base_uri": "https://localhost:8080/"
        },
        "id": "A-F14JDubrGp",
        "outputId": "52e0d2b2-c908-4793-e4af-b7b2920f5c61"
      },
      "id": "A-F14JDubrGp",
      "execution_count": 65,
      "outputs": [
        {
          "output_type": "stream",
          "name": "stdout",
          "text": [
            "              precision    recall  f1-score   support\n",
            "\n",
            "         Ham       0.95      0.91      0.93       190\n",
            "        Spam       0.91      0.96      0.93       201\n",
            "\n",
            "    accuracy                           0.93       391\n",
            "   macro avg       0.93      0.93      0.93       391\n",
            "weighted avg       0.93      0.93      0.93       391\n",
            "\n"
          ]
        }
      ]
    },
    {
      "cell_type": "code",
      "source": [
        "# Create a scatter plot to visualize the predicted probabilities of comments belonging to different classes.\n",
        "spam_proba = clf3.predict_proba(X_test_transf).round(3)[:,1];\n",
        "\n",
        "df_scatter3 = pd.DataFrame()\n",
        "\n",
        "df_scatter3['True class'] = y_test\n",
        "df_scatter3['Predicted class'] = y_test_pred\n",
        "df_scatter3['Predicted probability (spam)'] = spam_proba\n",
        "\n",
        "df_scatter3 = df_scatter3.reset_index(drop = True)\n",
        "\n",
        "palette_0 = sns.color_palette(['#000000'])\n",
        "palette_1 = sns.color_palette(['#FF0000'])\n",
        "\n",
        "df_scatter_0_3 = df_scatter3[df_scatter3['True class'] == 0].reset_index(drop = True)\n",
        "df_scatter_1_3 = df_scatter3[df_scatter3['True class'] == 1].reset_index(drop = True)\n",
        "\n",
        "sns.set()\n",
        "\n",
        "fig, (ax1,ax2) = plt.subplots(2,1, figsize=(12,5))\n",
        "fig.tight_layout(pad = 3)\n",
        "\n",
        "sns.scatterplot(x = 'Predicted probability (spam)',\n",
        "                y = np.zeros(df_scatter_0_3.shape[0]),\n",
        "                data = df_scatter_0_3,\n",
        "                hue = 'True class',\n",
        "                s = 50,\n",
        "                markers = ['o'],\n",
        "                palette = palette_0,\n",
        "                style = 'True class',\n",
        "                legend = False,\n",
        "                ax = ax1).set(yticklabels=[])\n",
        "\n",
        "ax1.set_title('Probability distribution of comments belonging to the true \\'ham\\' class')\n",
        "ax1.vlines(0.5, -1, 1, linestyles = 'dashed', colors = 'red');\n",
        "\n",
        "\n",
        "sns.scatterplot(x = 'Predicted probability (spam)',\n",
        "                y = np.zeros(df_scatter_1_3.shape[0]),\n",
        "                hue = 'True class',\n",
        "                data = df_scatter_1_3,\n",
        "                s = 50,\n",
        "                palette = palette_1,\n",
        "                markers = ['X'],\n",
        "                style = 'True class',\n",
        "                legend = False,\n",
        "                ax = ax2).set(yticklabels=[])\n",
        "\n",
        "ax2.set_title('Probability distribution of comments belonging to the true \\'spam\\' class')\n",
        "\n",
        "ax2.vlines(0.5, -1, 1, linestyles = 'dashed', colors = 'red');"
      ],
      "metadata": {
        "colab": {
          "base_uri": "https://localhost:8080/",
          "height": 476
        },
        "id": "u3O4LvOlbxko",
        "outputId": "6a514db3-b69d-4e7f-fea4-1abd8769fb11"
      },
      "id": "u3O4LvOlbxko",
      "execution_count": 68,
      "outputs": [
        {
          "output_type": "display_data",
          "data": {
            "text/plain": [
              "<Figure size 1200x500 with 2 Axes>"
            ],
            "image/png": "[encoded data removed]"
          },
          "metadata": {}
        }
      ]
    }
  ],
  "metadata": {
    "kernelspec": {
      "display_name": "Python 3 (ipykernel)",
      "language": "python",
      "name": "python3"
    },
    "language_info": {
      "codemirror_mode": {
        "name": "ipython",
        "version": 3
      },
      "file_extension": ".py",
      "mimetype": "text/x-python",
      "name": "python",
      "nbconvert_exporter": "python",
      "pygments_lexer": "ipython3",
      "version": "3.8.8"
    },
    "colab": {
      "provenance": []
    }
  },
  "nbformat": 4,
  "nbformat_minor": 5
}